{
  "nbformat": 4,
  "nbformat_minor": 0,
  "metadata": {
    "colab": {
      "provenance": [],
      "toc_visible": true
    },
    "kernelspec": {
      "name": "python3",
      "display_name": "Python 3"
    },
    "language_info": {
      "name": "python"
    }
  },
  "cells": [
    {
      "cell_type": "code",
      "source": [
        "%pip install nba_api\n",
        "%pip install pandas\n",
        "# https://github.com/swar/nba_api"
      ],
      "metadata": {
        "colab": {
          "base_uri": "https://localhost:8080/"
        },
        "id": "2QAxHfsMk6lA",
        "outputId": "05f80f9f-8336-49fc-f5c0-2aeb8de3c4eb"
      },
      "execution_count": null,
      "outputs": [
        {
          "output_type": "stream",
          "name": "stdout",
          "text": [
            "Requirement already satisfied: nba_api in /usr/local/lib/python3.10/dist-packages (1.4.1)\n",
            "Requirement already satisfied: certifi<2024.0.0,>=2023.7.22 in /usr/local/lib/python3.10/dist-packages (from nba_api) (2023.11.17)\n",
            "Requirement already satisfied: numpy<2.0.0,>=1.22.2 in /usr/local/lib/python3.10/dist-packages (from nba_api) (1.23.5)\n",
            "Requirement already satisfied: requests<3.0,>=2.31 in /usr/local/lib/python3.10/dist-packages (from nba_api) (2.31.0)\n",
            "Requirement already satisfied: charset-normalizer<4,>=2 in /usr/local/lib/python3.10/dist-packages (from requests<3.0,>=2.31->nba_api) (3.3.2)\n",
            "Requirement already satisfied: idna<4,>=2.5 in /usr/local/lib/python3.10/dist-packages (from requests<3.0,>=2.31->nba_api) (3.6)\n",
            "Requirement already satisfied: urllib3<3,>=1.21.1 in /usr/local/lib/python3.10/dist-packages (from requests<3.0,>=2.31->nba_api) (2.0.7)\n",
            "Requirement already satisfied: pandas in /usr/local/lib/python3.10/dist-packages (1.5.3)\n",
            "Requirement already satisfied: python-dateutil>=2.8.1 in /usr/local/lib/python3.10/dist-packages (from pandas) (2.8.2)\n",
            "Requirement already satisfied: pytz>=2020.1 in /usr/local/lib/python3.10/dist-packages (from pandas) (2023.3.post1)\n",
            "Requirement already satisfied: numpy>=1.21.0 in /usr/local/lib/python3.10/dist-packages (from pandas) (1.23.5)\n",
            "Requirement already satisfied: six>=1.5 in /usr/local/lib/python3.10/dist-packages (from python-dateutil>=2.8.1->pandas) (1.16.0)\n"
          ]
        }
      ]
    },
    {
      "cell_type": "code",
      "source": [
        "from nba_api.stats.static import teams\n",
        "allTeams = teams.get_teams()\n",
        "teamValues = {}\n",
        "teamsPlayed = {}\n",
        "teamIDs = []\n",
        "values = {}\n",
        "abbreviation_to_id = {}\n",
        "id_to_abbreviation = {}\n",
        "\n",
        "for i in range(len(allTeams)):\n",
        "  # WP, OWP, OOWP, RPI\n",
        "  teamValues[allTeams[i]['id']] = [0, 0, 0, 0]\n",
        "  # Teams that the current team has played\n",
        "  teamsPlayed[allTeams[i]['id']] = []\n",
        "  teamIDs.append(allTeams[i]['id'])\n",
        "  values[allTeams[i]['id']] = []\n",
        "  abbreviation_to_id[allTeams[i]['abbreviation']] = allTeams[i]['id']\n",
        "  id_to_abbreviation[allTeams[i]['id']] = allTeams[i]['abbreviation']\n",
        "\n",
        "print(abbreviation_to_id)"
      ],
      "metadata": {
        "colab": {
          "base_uri": "https://localhost:8080/"
        },
        "id": "hxcZXRLtlA8Q",
        "outputId": "9f0487d8-7fa4-4704-d810-ed7c6d78e2e9"
      },
      "execution_count": null,
      "outputs": [
        {
          "output_type": "stream",
          "name": "stdout",
          "text": [
            "{'ATL': 1610612737, 'BOS': 1610612738, 'CLE': 1610612739, 'NOP': 1610612740, 'CHI': 1610612741, 'DAL': 1610612742, 'DEN': 1610612743, 'GSW': 1610612744, 'HOU': 1610612745, 'LAC': 1610612746, 'LAL': 1610612747, 'MIA': 1610612748, 'MIL': 1610612749, 'MIN': 1610612750, 'BKN': 1610612751, 'NYK': 1610612752, 'ORL': 1610612753, 'IND': 1610612754, 'PHI': 1610612755, 'PHX': 1610612756, 'POR': 1610612757, 'SAC': 1610612758, 'SAS': 1610612759, 'OKC': 1610612760, 'TOR': 1610612761, 'UTA': 1610612762, 'MEM': 1610612763, 'WAS': 1610612764, 'DET': 1610612765, 'CHA': 1610612766}\n"
          ]
        }
      ]
    },
    {
      "cell_type": "code",
      "source": [
        "from nba_api.stats.endpoints import leaguestandingsv3\n",
        "from nba_api.stats.endpoints import leaguegamefinder\n",
        "\n",
        "standings = leaguestandingsv3.LeagueStandingsV3()\n",
        "\n",
        "for i in range(30):\n",
        "  id = standings.standings.data['data'][i][2]\n",
        "\n",
        "  # home record\n",
        "  home = standings.standings.data['data'][i][18]\n",
        "  # away record\n",
        "  away = standings.standings.data['data'][i][19]\n",
        "  # wins\n",
        "  wins = standings.standings.data['data'][i][13]\n",
        "  # loses\n",
        "  loses = standings.standings.data['data'][i][14]\n",
        "  total_games = wins + loses\n",
        "\n",
        "  # Query for games where the Celtics were playing\n",
        "  gamefinder = leaguegamefinder.LeagueGameFinder(team_id_nullable=id)\n",
        "  # The first DataFrame of those returned is what we want.\n",
        "  games = gamefinder.get_data_frames()[0][:total_games]\n",
        "\n",
        "  home_wins = int(home.split('-')[0]) * 0.6\n",
        "  home_losses = int(home.split('-')[1]) * 1.4\n",
        "\n",
        "  away_wins = int(away.split('-')[0]) * 1.4\n",
        "  away_losses = int(away.split('-')[1]) * 0.6\n",
        "\n",
        "  weighted_WP = (home_wins + away_wins) - (home_losses + away_losses)\n",
        "  WP = wins/total_games\n",
        "  values[id].append(weighted_WP)\n",
        "  values[id].append(WP)\n",
        "\n",
        "  for i in range(len(games['MATCHUP'])):\n",
        "    opp = ''\n",
        "    if ' vs.' in games['MATCHUP'][i]:\n",
        "      opp = games['MATCHUP'][i].split( 'vs. ')[1]\n",
        "    elif ' @ ' in games['MATCHUP'][i]:\n",
        "      opp = games['MATCHUP'][i].split( '@ ')[1]\n",
        "    opp_id = abbreviation_to_id[opp]\n",
        "    teamsPlayed[id].append(opp_id)\n",
        "\n",
        "values"
      ],
      "metadata": {
        "colab": {
          "base_uri": "https://localhost:8080/"
        },
        "id": "CHJjVkpDu5gJ",
        "outputId": "bed47e5c-a063-430f-e9d5-067dcbd9d425"
      },
      "execution_count": null,
      "outputs": [
        {
          "output_type": "execute_result",
          "data": {
            "text/plain": [
              "{1610612737: [-6.399999999999999, 0.39473684210526316],\n",
              " 1610612738: [21.4, 0.7692307692307693],\n",
              " 1610612739: [5.0, 0.5945945945945946],\n",
              " 1610612740: [7.9999999999999964, 0.6],\n",
              " 1610612741: [-5.0, 0.4634146341463415],\n",
              " 1610612742: [5.199999999999999, 0.575],\n",
              " 1610612743: [14.599999999999998, 0.6829268292682927],\n",
              " 1610612744: [-5.0, 0.46153846153846156],\n",
              " 1610612745: [-1.5999999999999996, 0.5],\n",
              " 1610612746: [10.6, 0.6410256410256411],\n",
              " 1610612747: [-2.0, 0.475],\n",
              " 1610612748: [7.399999999999999, 0.5897435897435898],\n",
              " 1610612749: [13.600000000000001, 0.7],\n",
              " 1610612750: [18.2, 0.717948717948718],\n",
              " 1610612751: [-6.0, 0.42105263157894735],\n",
              " 1610612752: [10.6, 0.5897435897435898],\n",
              " 1610612753: [4.199999999999999, 0.5384615384615384],\n",
              " 1610612754: [5.800000000000001, 0.5897435897435898],\n",
              " 1610612755: [9.8, 0.6486486486486487],\n",
              " 1610612756: [1.0000000000000036, 0.5384615384615384],\n",
              " 1610612757: [-16.999999999999996, 0.2564102564102564],\n",
              " 1610612758: [6.600000000000001, 0.5897435897435898],\n",
              " 1610612759: [-24.0, 0.18421052631578946],\n",
              " 1610612760: [14.4, 0.7105263157894737],\n",
              " 1610612761: [-7.800000000000004, 0.38461538461538464],\n",
              " 1610612762: [2.1999999999999993, 0.5121951219512195],\n",
              " 1610612763: [-9.8, 0.358974358974359],\n",
              " 1610612764: [-21.6, 0.18421052631578946],\n",
              " 1610612765: [-32.599999999999994, 0.07692307692307693],\n",
              " 1610612766: [-19.799999999999997, 0.21621621621621623]}"
            ]
          },
          "metadata": {},
          "execution_count": 81
        }
      ]
    },
    {
      "cell_type": "code",
      "source": [
        "# https://squared2020.com/2017/03/10/how-to-game-the-rating-percentage-index-rpi-in-basketball/\n",
        "# RPI = 0.25*WP + 0.50*OWP + 0.25*OOWP\n",
        "\n",
        "OWP_per_team = {}\n",
        "\n",
        "for id in teamIDs:\n",
        "  total = 0\n",
        "  count = 0\n",
        "  for opp_id in teamsPlayed[id]:\n",
        "    total += values[opp_id][1]\n",
        "    count += 1\n",
        "\n",
        "  OWP_per_team[id] = (total/count)\n",
        "\n",
        "OWP_per_team"
      ],
      "metadata": {
        "colab": {
          "base_uri": "https://localhost:8080/"
        },
        "id": "V9K-p2hpsIxR",
        "outputId": "57f8c3ea-4ea7-48d8-8502-cf25df8d1190"
      },
      "execution_count": null,
      "outputs": [
        {
          "output_type": "execute_result",
          "data": {
            "text/plain": [
              "{1610612737: 0.4933159448732722,\n",
              " 1610612738: 0.514590580318338,\n",
              " 1610612739: 0.4828381755263067,\n",
              " 1610612740: 0.5164425034049551,\n",
              " 1610612741: 0.4981756142171308,\n",
              " 1610612742: 0.48599263786844027,\n",
              " 1610612743: 0.4886049071973803,\n",
              " 1610612744: 0.5322225950570969,\n",
              " 1610612745: 0.5145382652873703,\n",
              " 1610612746: 0.4961178839548546,\n",
              " 1610612747: 0.513386399260918,\n",
              " 1610612748: 0.4759732261904672,\n",
              " 1610612749: 0.46596632174536534,\n",
              " 1610612750: 0.5294027635811975,\n",
              " 1610612751: 0.4977185845733579,\n",
              " 1610612752: 0.5043033778246576,\n",
              " 1610612753: 0.5154293812311982,\n",
              " 1610612754: 0.5048361456305566,\n",
              " 1610612755: 0.46126830535375785,\n",
              " 1610612756: 0.4523820424704201,\n",
              " 1610612757: 0.5088907636700665,\n",
              " 1610612758: 0.498301762237281,\n",
              " 1610612759: 0.5241944352713896,\n",
              " 1610612760: 0.5007254156002551,\n",
              " 1610612761: 0.4958448391498653,\n",
              " 1610612762: 0.5025289176828049,\n",
              " 1610612763: 0.5176219702091134,\n",
              " 1610612764: 0.49699406150237174,\n",
              " 1610612765: 0.5117055112932472,\n",
              " 1610612766: 0.5072132961787058}"
            ]
          },
          "metadata": {},
          "execution_count": 82
        }
      ]
    },
    {
      "cell_type": "code",
      "source": [
        "OOWP_per_team = {}\n",
        "\n",
        "for id in teamIDs:\n",
        "  total = 0\n",
        "  count = 0\n",
        "  for opp_id in teamsPlayed[id]:\n",
        "    total += OWP_per_team[opp_id]\n",
        "    count += 1\n",
        "  OOWP_per_team[id] = (total/count)\n",
        "\n",
        "OOWP_per_team"
      ],
      "metadata": {
        "colab": {
          "base_uri": "https://localhost:8080/"
        },
        "id": "5-Nie-RothKv",
        "outputId": "fc8c0417-26ec-49f9-b689-8d3760effbcd"
      },
      "execution_count": null,
      "outputs": [
        {
          "output_type": "execute_result",
          "data": {
            "text/plain": [
              "{1610612737: 0.4972732990298614,\n",
              " 1610612738: 0.4996089559710103,\n",
              " 1610612739: 0.5020135384690892,\n",
              " 1610612740: 0.5044652878603195,\n",
              " 1610612741: 0.4956607558374591,\n",
              " 1610612742: 0.506664042626337,\n",
              " 1610612743: 0.5063890875539065,\n",
              " 1610612744: 0.49785968874987463,\n",
              " 1610612745: 0.49981375144151446,\n",
              " 1610612746: 0.5049911196834304,\n",
              " 1610612747: 0.49942905332601006,\n",
              " 1610612748: 0.5012846117942715,\n",
              " 1610612749: 0.5023946798764756,\n",
              " 1610612750: 0.5023373170995127,\n",
              " 1610612751: 0.4959175277211181,\n",
              " 1610612752: 0.49635790128325213,\n",
              " 1610612753: 0.49686725490004263,\n",
              " 1610612754: 0.4964813187357945,\n",
              " 1610612755: 0.5028531851057382,\n",
              " 1610612756: 0.5069654058556947,\n",
              " 1610612757: 0.49769547572471196,\n",
              " 1610612758: 0.5042280756481462,\n",
              " 1610612759: 0.5001350664282074,\n",
              " 1610612760: 0.5033907425674468,\n",
              " 1610612761: 0.49730088710532694,\n",
              " 1610612762: 0.49950330671958243,\n",
              " 1610612763: 0.5003986869860819,\n",
              " 1610612764: 0.4959319830317866,\n",
              " 1610612765: 0.4970111475208314,\n",
              " 1610612766: 0.496423176186107}"
            ]
          },
          "metadata": {},
          "execution_count": 83
        }
      ]
    },
    {
      "cell_type": "code",
      "source": [
        "RPI_per_team = {}\n",
        "for id in teamIDs:\n",
        "  RPI = 0.25*values[id][0] + 0.5*OWP_per_team[id] + 0.25*OOWP_per_team[id]\n",
        "  RPI_per_team[id_to_abbreviation[id]] = RPI\n",
        "\n",
        "power_rankings = sorted(RPI_per_team.items(), key=lambda x:x[1])\n",
        "print(power_rankings)"
      ],
      "metadata": {
        "colab": {
          "base_uri": "https://localhost:8080/"
        },
        "id": "xvkZEPe5uIRy",
        "outputId": "c55b582a-efef-4d80-da7b-ca9bacb25a6e"
      },
      "execution_count": null,
      "outputs": [
        {
          "output_type": "stream",
          "name": "stdout",
          "text": [
            "[('DET', -7.769894457473168), ('SAS', -5.612869015757253), ('WAS', -5.027519973490867), ('CHA', -4.57228755786412), ('POR', -3.871130749233788), ('MEM', -2.0660893431489233), ('TOR', -1.5777523586487368), ('ATL', -1.2290237028058983), ('BKN', -1.1271613257830415), ('CHI', -0.8769970039320698), ('GSW', -0.8594237802839829), ('LAL', -0.11844953703803848), ('HOU', -0.017777429495936123), ('PHX', 0.6029323726991347), ('UTA', 0.9261402855212979), ('ORL', 1.4319315043406096), ('CLE', 1.6169224723804256), ('DAL', 1.6696623295908042), ('IND', 1.826538402499227), ('SAC', 2.0252079000306775), ('MIA', 2.213307766043801), ('NOP', 2.3843375736675565), ('PHI', 2.806347448953314), ('LAC', 3.024306721898285), ('NYK', 3.026241164233142), ('MIL', 3.758581830841802), ('OKC', 3.9762103934419892), ('DEN', 4.020899725487166), ('MIN', 4.940285711065477), ('BOS', 5.732197529151921)]\n"
          ]
        }
      ]
    }
  ]
}